{
 "cells": [
  {
   "cell_type": "code",
   "execution_count": 148,
   "metadata": {},
   "outputs": [],
   "source": [
    "# References:\n",
    "# Matplotlib Patches:- https://matplotlib.org/stable/api/_as_gen/matplotlib.patches.Rectangle.html\n",
    "# Networkx Read Adjacency List Input:- https://networkx.org/documentation/stable/reference/readwrite/generated/networkx.readwrite.adjlist.read_adjlist.html#networkx.readwrite.adjlist.read_adjlist\n",
    "# Matplotlib Line plot:- https://matplotlib.org/2.1.1/api/_as_gen/matplotlib.pyplot.plot.html\n",
    "# Priority Queue Implementation:- https://docs.python.org/3/library/queue.html\n",
    "# Dijkstra Algorithm PseudoCode:- https://www.programiz.com/dsa/dijkstra-algorithm\n",
    "# Concepts discussed with Suchita Marru."
   ]
  },
  {
   "cell_type": "code",
   "execution_count": 85,
   "metadata": {},
   "outputs": [],
   "source": [
    "import matplotlib.pyplot as plt\n",
    "import numpy as np\n",
    "from matplotlib.patches import Polygon\n",
    "from queue import PriorityQueue\n",
    "import networkx as nx"
   ]
  },
  {
   "cell_type": "code",
   "execution_count": 86,
   "metadata": {},
   "outputs": [
    {
     "name": "stdout",
     "output_type": "stream",
     "text": [
      "[0, 1, 3, 9, 13, 14, 15, 11, 12, 2, 5, 7, 4, 6, 18, 10, 16, 17, 19, 21, 8, 20]\n",
      "[(0, 1), (0, 3), (0, 9), (0, 13), (0, 14), (0, 15), (1, 9), (1, 11), (1, 12), (1, 13), (1, 14), (1, 15), (9, 2), (9, 14), (9, 15), (9, 16), (9, 17), (13, 2), (13, 16), (13, 17), (13, 18), (14, 2), (14, 10), (14, 11), (14, 17), (14, 18), (15, 2), (15, 16), (15, 17), (15, 18), (11, 2), (11, 4), (11, 5), (11, 7), (11, 6), (12, 2), (12, 4), (12, 5), (12, 6), (12, 7), (12, 16), (12, 17), (12, 18), (12, 19), (2, 5), (2, 7), (5, 4), (5, 10), (5, 16), (5, 17), (5, 18), (5, 19), (7, 4), (7, 10), (4, 6), (4, 18), (4, 17), (6, 10), (6, 17), (6, 18), (6, 19), (6, 21), (6, 16), (18, 10), (10, 16), (10, 17), (19, 8), (19, 21), (21, 8), (21, 20)]\n"
     ]
    }
   ],
   "source": [
    "# 22 points\n",
    "nodes = {0:(50,1040),1:(200,800),2:(350,800),3:(200,1050),4:(350,1050),5:(650,800),6:(730,800),7:(650,1000),8:(730,1000),9:(400,400),10:(520,400),11:(400,580),12:(520,580),13:(100,100),14:(180,320),15:(340,304),16:(600,100),17:(650,230),18:(720,350),19:(880,320),20:(900,130),21:(950,250)}\n",
    "# edges - connections between nodes.\n",
    "adjacency_list = './adjacency_list.json'\n",
    "\n",
    "lines = ['0 1 3 9 13 14 15',\n",
    "         '1 0 9 11 12 13 14 15',\n",
    "         '2 5 7 9 11 12 14 15',\n",
    "         '3 0',\n",
    "         '4 5 6  7 11 12 18',\n",
    "         '5 2 4 10 11 12 16 17 18 19',\n",
    "         '6 10 12 17 18 19 21',\n",
    "         '7 2 4 10 11 12',\n",
    "         '8 19 21',\n",
    "         '9 0 1 2 14 15 16 17',\n",
    "         '10 5 6 7 16 17 18',\n",
    "         '11 1 2 4 5 6 7',\n",
    "         '12 1 7 16 17 18',\n",
    "         '13 0 1 2',\n",
    "         '14 0 1 2 9 10 11 17 18',\n",
    "         '15 0 1 2 9',\n",
    "         '16 5 6 9 10 12 13 15',\n",
    "         '17 4 5 6 9 10 12 13 15',\n",
    "         '18 4 5 6 10 12 13 15',\n",
    "         '19 5 6 8 12 21',\n",
    "         '20 21',\n",
    "         '21 6 8 19 20']\n",
    "\n",
    "visibility_graph = nx.parse_adjlist(lines, nodetype = int)\n",
    "print(visibility_graph.nodes)\n",
    "print(visibility_graph.edges)"
   ]
  },
  {
   "cell_type": "code",
   "execution_count": 102,
   "metadata": {},
   "outputs": [],
   "source": [
    "def euclidean_distance(point1,point2):\n",
    "    return np.sqrt(sum((e1-e2)**2 for e1, e2 in zip(point1,point2)))"
   ]
  },
  {
   "cell_type": "code",
   "execution_count": 114,
   "metadata": {},
   "outputs": [],
   "source": [
    "def dijkstra_algorithm(G,start_node):\n",
    "    distance = [float('inf')]*len(G.nodes)\n",
    "    parent = [None]*len(G.nodes)\n",
    "    parent[0] = 0\n",
    "    distance[0] = 0\n",
    "    dist_list = [*zip(distance,range(len(G.nodes)))]\n",
    "    fringe = PriorityQueue()\n",
    "    while len(dist_list)>0:\n",
    "        fringe.put(dist_list.pop(0))\n",
    "    while not fringe.empty():\n",
    "        next_item = fringe.get()\n",
    "        for neighbor in G.neighbors(next_item[1]):\n",
    "            start_pt = nodes[next_item[1]]\n",
    "            end_pt = nodes[neighbor]\n",
    "            neighbor_dist = distance[next_item[1]] + euclidean_distance(start_pt,end_pt)\n",
    "            if(neighbor_dist<distance[neighbor]):\n",
    "                distance[neighbor] = neighbor_dist\n",
    "                parent[neighbor] = next_item[1]\n",
    "    return parent,distance"
   ]
  },
  {
   "cell_type": "code",
   "execution_count": 115,
   "metadata": {},
   "outputs": [],
   "source": [
    "parent,shortest_distance = dijkstra_algorithm(visibility_graph,0)"
   ]
  },
  {
   "cell_type": "code",
   "execution_count": 116,
   "metadata": {},
   "outputs": [
    {
     "name": "stdout",
     "output_type": "stream",
     "text": [
      "parent: [0, 0, 11, 0, 11, 11, 12, 11, 19, 0, 14, 1, 1, 0, 0, 0, 9, 9, 12, 12, 21, 19]\n",
      "shortest_distance: [0, 283.0194339616981, 805.9510923616377, 150.33296378372907, 1052.9929008319273, 913.3573250150025, 975.487317255561, 1069.1147853020657, 1811.7688713062878, 729.4518489934753, 1080.9269728850734, 580.3408089080682, 671.3491907406501, 941.3288479590966, 731.6419889536138, 791.0726894540096, 1090.0069765398744, 1031.776178150095, 976.1442038232135, 1115.4212569641404, 1344.416206330257, 1214.416206330257]\n"
     ]
    }
   ],
   "source": [
    "print(\"parent:\",parent)\n",
    "print(\"shortest_distance:\",shortest_distance)"
   ]
  },
  {
   "cell_type": "code",
   "execution_count": 145,
   "metadata": {},
   "outputs": [],
   "source": [
    "def print_result(previous_nodes,shortest_path,source_node,target_node):\n",
    "    path = []\n",
    "    node = target_node\n",
    "    \n",
    "    while(node!=source_node):\n",
    "        print(node)\n",
    "        path.append(node)\n",
    "        node = previous_nodes[node]\n",
    "    path.append(node)\n",
    "    print(\"We found the following best path with a value of: {}\".format(shortest_path[target_node]))\n",
    "    string1 = \" -> \".join([str(x) for x in list(reversed(path))])\n",
    "    print(string1)\n",
    "    return [x for x in list(reversed(path))]"
   ]
  },
  {
   "cell_type": "code",
   "execution_count": 146,
   "metadata": {},
   "outputs": [
    {
     "name": "stdout",
     "output_type": "stream",
     "text": [
      "21\n",
      "19\n",
      "12\n",
      "1\n",
      "We found the following best path with a value of: 1214.416206330257\n",
      "0 -> 1 -> 12 -> 19 -> 21\n",
      "[0, 1, 12, 19, 21]\n"
     ]
    }
   ],
   "source": [
    "path_arr = print_result(parent,shortest_distance,0,21)\n",
    "print(path_arr)"
   ]
  },
  {
   "cell_type": "code",
   "execution_count": 147,
   "metadata": {},
   "outputs": [
    {
     "data": {
      "image/png": "[encoded data removed]",
      "text/plain": [
       "<Figure size 432x288 with 1 Axes>"
      ]
     },
     "metadata": {
      "needs_background": "light"
     },
     "output_type": "display_data"
    }
   ],
   "source": [
    "ax = plt.gca()\n",
    "rectangle1 = plt.Rectangle((400,400), 120, 180)\n",
    "ax.add_patch(rectangle1)\n",
    "rectangle2 = plt.Rectangle((650,800), 80, 200)\n",
    "ax.add_patch(rectangle2)\n",
    "rectangle3 = plt.Rectangle((200,800), 150, 250)\n",
    "ax.add_patch(rectangle3)\n",
    "pts = np.array([[100,100], [180,320], [340,np.sqrt(320**2 - 100**2)]])\n",
    "p = Polygon(pts, closed=False)\n",
    "ax.add_patch(p)\n",
    "pts1 = np.array([[600,100],[650,230],[720,350],[880,320],[900,130]])\n",
    "p1 = Polygon(pts1, closed=True)\n",
    "ax.add_patch(p1)\n",
    "plt.plot(50,1040,'ro',markerfacecolor=\"red\") \n",
    "plt.plot(950,250,'ro',markeredgecolor=\"green\",markerfacecolor=\"green\") \n",
    "ax.set_xlim([0,1000])\n",
    "ax.set_ylim([0,1200])\n",
    "for s, e in visibility_graph.edges:\n",
    "    start_loc = nodes[s]\n",
    "    end_loc = nodes[e]\n",
    "    x_values = [start_loc[0], end_loc[0]]\n",
    "    y_values = [start_loc[1], end_loc[1]]\n",
    "    plt.plot(x_values, y_values, 'bo', linestyle=\"--\")\n",
    "i,j=0,1\n",
    "while(j!=len(path_arr)):\n",
    "    start_loc = nodes[path_arr[i]]\n",
    "    end_loc = nodes[path_arr[j]]\n",
    "    x_values = [start_loc[0],end_loc[0]]\n",
    "    y_values = [start_loc[1],end_loc[1]]\n",
    "    plt.plot(x_values,y_values,'ro',linestyle='-')\n",
    "    i+=1\n",
    "    j+=1\n",
    "plt.title('Visibility Graph for Start point to Goal')\n",
    "plt.show()"
   ]
  },
  {
   "cell_type": "code",
   "execution_count": null,
   "metadata": {},
   "outputs": [],
   "source": [
    "# The red Line indicates the shortest path from the start node to the goal node in the visbility graph formed."
   ]
  },
  {
   "cell_type": "code",
   "execution_count": null,
   "metadata": {},
   "outputs": [],
   "source": []
  },
  {
   "cell_type": "code",
   "execution_count": null,
   "metadata": {},
   "outputs": [],
   "source": []
  },
  {
   "cell_type": "code",
   "execution_count": null,
   "metadata": {},
   "outputs": [],
   "source": []
  },
  {
   "cell_type": "code",
   "execution_count": null,
   "metadata": {},
   "outputs": [],
   "source": []
  },
  {
   "cell_type": "code",
   "execution_count": null,
   "metadata": {},
   "outputs": [],
   "source": []
  },
  {
   "cell_type": "code",
   "execution_count": null,
   "metadata": {},
   "outputs": [],
   "source": []
  },
  {
   "cell_type": "code",
   "execution_count": null,
   "metadata": {},
   "outputs": [],
   "source": []
  },
  {
   "cell_type": "code",
   "execution_count": null,
   "metadata": {},
   "outputs": [],
   "source": []
  },
  {
   "cell_type": "code",
   "execution_count": null,
   "metadata": {},
   "outputs": [],
   "source": []
  },
  {
   "cell_type": "code",
   "execution_count": null,
   "metadata": {},
   "outputs": [],
   "source": []
  },
  {
   "cell_type": "code",
   "execution_count": null,
   "metadata": {},
   "outputs": [],
   "source": []
  },
  {
   "cell_type": "code",
   "execution_count": null,
   "metadata": {},
   "outputs": [],
   "source": []
  },
  {
   "cell_type": "code",
   "execution_count": null,
   "metadata": {},
   "outputs": [],
   "source": []
  },
  {
   "cell_type": "code",
   "execution_count": null,
   "metadata": {},
   "outputs": [],
   "source": []
  },
  {
   "cell_type": "code",
   "execution_count": null,
   "metadata": {},
   "outputs": [],
   "source": []
  },
  {
   "cell_type": "code",
   "execution_count": null,
   "metadata": {},
   "outputs": [],
   "source": []
  },
  {
   "cell_type": "code",
   "execution_count": null,
   "metadata": {},
   "outputs": [],
   "source": []
  },
  {
   "cell_type": "code",
   "execution_count": null,
   "metadata": {},
   "outputs": [],
   "source": []
  },
  {
   "cell_type": "code",
   "execution_count": null,
   "metadata": {},
   "outputs": [],
   "source": []
  },
  {
   "cell_type": "code",
   "execution_count": null,
   "metadata": {},
   "outputs": [],
   "source": []
  },
  {
   "cell_type": "code",
   "execution_count": null,
   "metadata": {},
   "outputs": [],
   "source": []
  },
  {
   "cell_type": "code",
   "execution_count": null,
   "metadata": {},
   "outputs": [],
   "source": []
  },
  {
   "cell_type": "code",
   "execution_count": null,
   "metadata": {},
   "outputs": [],
   "source": []
  },
  {
   "cell_type": "code",
   "execution_count": null,
   "metadata": {},
   "outputs": [],
   "source": []
  },
  {
   "cell_type": "code",
   "execution_count": null,
   "metadata": {},
   "outputs": [],
   "source": []
  },
  {
   "cell_type": "code",
   "execution_count": null,
   "metadata": {},
   "outputs": [],
   "source": []
  },
  {
   "cell_type": "code",
   "execution_count": null,
   "metadata": {},
   "outputs": [],
   "source": []
  },
  {
   "cell_type": "code",
   "execution_count": null,
   "metadata": {},
   "outputs": [],
   "source": []
  },
  {
   "cell_type": "code",
   "execution_count": null,
   "metadata": {},
   "outputs": [],
   "source": []
  },
  {
   "cell_type": "code",
   "execution_count": null,
   "metadata": {},
   "outputs": [],
   "source": []
  },
  {
   "cell_type": "code",
   "execution_count": null,
   "metadata": {},
   "outputs": [],
   "source": []
  },
  {
   "cell_type": "code",
   "execution_count": null,
   "metadata": {},
   "outputs": [],
   "source": []
  },
  {
   "cell_type": "code",
   "execution_count": null,
   "metadata": {},
   "outputs": [],
   "source": []
  },
  {
   "cell_type": "code",
   "execution_count": null,
   "metadata": {},
   "outputs": [],
   "source": []
  },
  {
   "cell_type": "code",
   "execution_count": null,
   "metadata": {},
   "outputs": [],
   "source": []
  },
  {
   "cell_type": "code",
   "execution_count": null,
   "metadata": {},
   "outputs": [],
   "source": []
  },
  {
   "cell_type": "code",
   "execution_count": null,
   "metadata": {},
   "outputs": [],
   "source": []
  },
  {
   "cell_type": "code",
   "execution_count": null,
   "metadata": {},
   "outputs": [],
   "source": []
  },
  {
   "cell_type": "code",
   "execution_count": null,
   "metadata": {},
   "outputs": [],
   "source": []
  }
 ],
 "metadata": {
  "kernelspec": {
   "display_name": "Python 3",
   "language": "python",
   "name": "python3"
  },
  "language_info": {
   "codemirror_mode": {
    "name": "ipython",
    "version": 3
   },
   "file_extension": ".py",
   "mimetype": "text/x-python",
   "name": "python",
   "nbconvert_exporter": "python",
   "pygments_lexer": "ipython3",
   "version": "3.7.6"
  }
 },
 "nbformat": 4,
 "nbformat_minor": 4
}
